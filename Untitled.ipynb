{
 "cells": [
  {
   "cell_type": "code",
   "execution_count": 1,
   "id": "5767c913-ba36-4af5-9486-936f180ddf87",
   "metadata": {},
   "outputs": [
    {
     "name": "stdout",
     "output_type": "stream",
     "text": [
      "The \"best\" French cheese can be subjective as it depends on personal taste preferences. However, some of the most popular and highly regarded French cheeses include:\n",
      "\n",
      "1. Brie de Meaux: Often referred to simply as Brie, this is a soft cheese with a white rind. It's known for its creamy texture and mild, slightly sweet flavor.\n",
      "\n",
      "2. Camembert: This is another soft cheese with a white rind. It has a stronger flavor than Brie, often described as earthy or mushroomy.\n",
      "\n",
      "3. Roquefort: This is a blue cheese made from sheep's milk. It has a strong, tangy flavor and a crumbly texture.\n",
      "\n",
      "4. Comté: This is a hard cheese made from unpasteurized cow's milk. It has a nutty, slightly sweet flavor and a firm texture.\n",
      "\n",
      "5. Reblochon: This is a soft cheese with a washed rind. It has a rich, creamy texture and a nutty, slightly fruity flavor.\n",
      "\n",
      "6. Époisses: Known for its pungent smell, this soft cheese has a strong, salty flavor and a creamy texture.\n"
     ]
    }
   ],
   "source": [
    "import os\n",
    "from mistralai.client import MistralClient\n",
    "from mistralai.models.chat_completion import ChatMessage\n",
    "\n",
    "api_key = os.environ[\"MISTRAL_API_KEY\"]\n",
    "model = \"mistral-large-latest\"\n",
    "\n",
    "client = MistralClient(api_key=api_key)\n",
    "\n",
    "chat_response = client.chat(\n",
    "    model=model,\n",
    "    messages=[ChatMessage(role=\"user\", content=\"What is the best French cheese?\")]\n",
    ")\n",
    "\n",
    "print(chat_response.choices[0].message.content)"
   ]
  },
  {
   "cell_type": "code",
   "execution_count": null,
   "id": "a7f82cdb-928f-4a3d-a6a4-a1acfc74f8d4",
   "metadata": {},
   "outputs": [],
   "source": []
  }
 ],
 "metadata": {
  "kernelspec": {
   "display_name": "Python 3 (ipykernel)",
   "language": "python",
   "name": "python3"
  },
  "language_info": {
   "codemirror_mode": {
    "name": "ipython",
    "version": 3
   },
   "file_extension": ".py",
   "mimetype": "text/x-python",
   "name": "python",
   "nbconvert_exporter": "python",
   "pygments_lexer": "ipython3",
   "version": "3.10.13"
  }
 },
 "nbformat": 4,
 "nbformat_minor": 5
}
